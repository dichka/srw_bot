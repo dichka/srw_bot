{
 "cells": [
  {
   "cell_type": "markdown",
   "metadata": {},
   "source": [
    "## Загружаем данные"
   ]
  },
  {
   "cell_type": "code",
   "execution_count": 51,
   "metadata": {},
   "outputs": [
    {
     "name": "stdout",
     "output_type": "stream",
     "text": [
      "{'Исполнитель': [{'Данил': {'Обязанности': 'Программирование'}}, {'Булгн': {'Обязанности': 'Оформление ТехЗадания'}}, {'Даша': {'Обязанности': 'Оформление текстовой части работы'}}], 'ring': 'в случае экстренной фин помощи 8-800-555-35-35'}\n"
     ]
    }
   ],
   "source": [
    "import json\n",
    "\n",
    "\n",
    "with open('jsdata.txt', 'r', encoding='utf-8') as fh:  # открываем файл на чтение\n",
    "    data = fh  # загружаем из файла данные в словарь data\n",
    "    # print(data.read())\n",
    "    js = json.loads(data.read().encode())\n",
    "    print(js)\n",
    "    # print(json.dumps(js, indent=4))"
   ]
  },
  {
   "cell_type": "markdown",
   "metadata": {},
   "source": [
    "## побалуемся с выведением словаря"
   ]
  },
  {
   "cell_type": "code",
   "execution_count": 52,
   "metadata": {
    "scrolled": true
   },
   "outputs": [
    {
     "data": {
      "text/plain": [
       "dict_keys(['Исполнитель', 'ring'])"
      ]
     },
     "execution_count": 52,
     "metadata": {},
     "output_type": "execute_result"
    }
   ],
   "source": [
    "js.keys()"
   ]
  },
  {
   "cell_type": "code",
   "execution_count": 53,
   "metadata": {},
   "outputs": [
    {
     "name": "stdout",
     "output_type": "stream",
     "text": [
      "[{'Данил': {'Обязанности': 'Программирование'}}, {'Булгн': {'Обязанности': 'Оформление ТехЗадания'}}, {'Даша': {'Обязанности': 'Оформление текстовой части работы'}}]\n",
      "в случае экстренной фин помощи 8-800-555-35-35\n"
     ]
    }
   ],
   "source": [
    "for k in js.keys(): \n",
    "    print(js[k])"
   ]
  },
  {
   "cell_type": "code",
   "execution_count": 55,
   "metadata": {},
   "outputs": [
    {
     "data": {
      "text/plain": [
       "'в случае экстренной фин помощи 8-800-555-35-35'"
      ]
     },
     "execution_count": 55,
     "metadata": {},
     "output_type": "execute_result"
    }
   ],
   "source": [
    "js.get('ring')"
   ]
  },
  {
   "cell_type": "code",
   "execution_count": 88,
   "metadata": {},
   "outputs": [
    {
     "data": {
      "text/plain": [
       "'Исполнитель'"
      ]
     },
     "execution_count": 88,
     "metadata": {},
     "output_type": "execute_result"
    }
   ],
   "source": [
    "list(js.keys())"
   ]
  },
  {
   "cell_type": "code",
   "execution_count": 87,
   "metadata": {},
   "outputs": [
    {
     "data": {
      "text/plain": [
       "'Данил'"
      ]
     },
     "execution_count": 87,
     "metadata": {},
     "output_type": "execute_result"
    }
   ],
   "source": [
    "list(js['Исполнитель'][0].keys())[0]"
   ]
  },
  {
   "cell_type": "markdown",
   "metadata": {},
   "source": [
    "## Готовим скелеты для обработки JSON"
   ]
  },
  {
   "cell_type": "markdown",
   "metadata": {},
   "source": [
    "keyboard1.row('Привет', 'Пока') # Пример того, как должны поступать данные в кнопки"
   ]
  },
  {
   "cell_type": "code",
   "execution_count": 85,
   "metadata": {
    "scrolled": true
   },
   "outputs": [
    {
     "name": "stdout",
     "output_type": "stream",
     "text": [
      "['Данил', 'Булгн', 'Даша']\n"
     ]
    }
   ],
   "source": [
    "# берем тот случай, когда в объекте лежит список (в которых находятся другие словари)\n",
    "js_lst = list()\n",
    "for n in range(len(js['Исполнитель'])):\n",
    "    js_n = list(js['Исполнитель'][n].keys())[0]\n",
    "    js_lst.append(js_n)\n",
    "print(js_lst)"
   ]
  },
  {
   "cell_type": "code",
   "execution_count": 75,
   "metadata": {},
   "outputs": [
    {
     "name": "stdout",
     "output_type": "stream",
     "text": [
      "Данил\n"
     ]
    }
   ],
   "source": [
    "print(js_lst[0])"
   ]
  },
  {
   "cell_type": "code",
   "execution_count": 77,
   "metadata": {},
   "outputs": [],
   "source": [
    "# Функция перевода списка в приемлемый для кнопок формат для кнопок\n",
    "def delim_list(lst):\n",
    "    delim_lst = list()\n",
    "    for n in range(len(lst)):\n",
    "        x_n = \"'\" + lst[n] + \"'\"\n",
    "        delim_lst.append(x_n)\n",
    "    print(', '.join(delim_lst))"
   ]
  },
  {
   "cell_type": "code",
   "execution_count": 123,
   "metadata": {
    "scrolled": false
   },
   "outputs": [
    {
     "name": "stdout",
     "output_type": "stream",
     "text": [
      "'Данил', 'Булгн', 'Даша'\n"
     ]
    }
   ],
   "source": [
    "delim_list(js_lst) # для списка"
   ]
  },
  {
   "cell_type": "code",
   "execution_count": 80,
   "metadata": {},
   "outputs": [
    {
     "name": "stdout",
     "output_type": "stream",
     "text": [
      "'Исполнитель', 'ring'\n"
     ]
    }
   ],
   "source": [
    "delim_list(list(js.keys())) # для ключей"
   ]
  },
  {
   "cell_type": "code",
   "execution_count": 117,
   "metadata": {},
   "outputs": [],
   "source": [
    "def js_to_row(js):    \n",
    "    js_lst = list()\n",
    "    try: # пробуем обратиться к cловарю\n",
    "        js_lst = list(js.keys())\n",
    "        \n",
    "    except: # иначе это списк\n",
    "        for n in range(len(js)):\n",
    "            js_n = list(js[n].keys())[0]\n",
    "            js_lst.append(js_n)\n",
    "    delim_list(js_lst)"
   ]
  },
  {
   "cell_type": "code",
   "execution_count": 124,
   "metadata": {},
   "outputs": [
    {
     "name": "stdout",
     "output_type": "stream",
     "text": [
      "'Исполнитель', 'ring'\n"
     ]
    }
   ],
   "source": [
    "js_to_row(js)"
   ]
  },
  {
   "cell_type": "code",
   "execution_count": 125,
   "metadata": {},
   "outputs": [
    {
     "name": "stdout",
     "output_type": "stream",
     "text": [
      "'Данил', 'Булгн', 'Даша'\n"
     ]
    }
   ],
   "source": [
    "js_to_row(js['Исполнитель'])"
   ]
  },
  {
   "cell_type": "code",
   "execution_count": 126,
   "metadata": {
    "scrolled": false
   },
   "outputs": [
    {
     "name": "stdout",
     "output_type": "stream",
     "text": [
      "'Данил'\n"
     ]
    }
   ],
   "source": [
    "js_to_row(js['Исполнитель'][0]) # ошибка"
   ]
  },
  {
   "cell_type": "code",
   "execution_count": 127,
   "metadata": {},
   "outputs": [
    {
     "name": "stdout",
     "output_type": "stream",
     "text": [
      "'Обязанности'\n"
     ]
    }
   ],
   "source": [
    "js_to_row(js['Исполнитель'][0]['Данил'])"
   ]
  },
  {
   "cell_type": "code",
   "execution_count": 104,
   "metadata": {},
   "outputs": [
    {
     "data": {
      "text/plain": [
       "[{'Данил': {'Обязанности': 'Программирование'}},\n",
       " {'Булгн': {'Обязанности': 'Оформление ТехЗадания'}},\n",
       " {'Даша': {'Обязанности': 'Оформление текстовой части работы'}}]"
      ]
     },
     "execution_count": 104,
     "metadata": {},
     "output_type": "execute_result"
    }
   ],
   "source": [
    "js['Исполнитель']"
   ]
  },
  {
   "cell_type": "code",
   "execution_count": 121,
   "metadata": {
    "scrolled": true
   },
   "outputs": [
    {
     "name": "stdout",
     "output_type": "stream",
     "text": [
      "'Данил', 'Булгн', 'Даша'\n"
     ]
    }
   ],
   "source": [
    "js_to_row(js['Исполнитель'])"
   ]
  },
  {
   "cell_type": "code",
   "execution_count": 119,
   "metadata": {},
   "outputs": [
    {
     "data": {
      "text/plain": [
       "{'Данил': {'Обязанности': 'Программирование'}}"
      ]
     },
     "execution_count": 119,
     "metadata": {},
     "output_type": "execute_result"
    }
   ],
   "source": [
    "js['Исполнитель'][0]"
   ]
  },
  {
   "cell_type": "code",
   "execution_count": 24,
   "metadata": {},
   "outputs": [
    {
     "name": "stdout",
     "output_type": "stream",
     "text": [
      "['Данил']\n",
      "['Булгн']\n",
      "['Даша']\n",
      "3\n"
     ]
    }
   ],
   "source": [
    "count = 0\n",
    "for n in range(len(js['Исполнитель'])):\n",
    "    count += 1\n",
    "    js_n = list(js['Исполнитель'][n].keys())\n",
    "    print(js_n)\n",
    "print (count)"
   ]
  },
  {
   "cell_type": "code",
   "execution_count": 28,
   "metadata": {},
   "outputs": [
    {
     "data": {
      "text/plain": [
       "[['Данил'], ['Булгн'], ['Даша']]"
      ]
     },
     "execution_count": 28,
     "metadata": {},
     "output_type": "execute_result"
    }
   ],
   "source": [
    "delim_js_list"
   ]
  },
  {
   "cell_type": "code",
   "execution_count": null,
   "metadata": {},
   "outputs": [],
   "source": [
    "keyboard_2 = telebot.types.ReplyKeyboardMarkup(True)\n",
    "keyboard1.row"
   ]
  },
  {
   "cell_type": "code",
   "execution_count": 82,
   "metadata": {},
   "outputs": [
    {
     "data": {
      "text/plain": [
       "dict_keys(['Исполнитель', 'ring'])"
      ]
     },
     "execution_count": 82,
     "metadata": {},
     "output_type": "execute_result"
    }
   ],
   "source": [
    "x = js.keys()"
   ]
  }
 ],
 "metadata": {
  "kernelspec": {
   "display_name": "Python 3",
   "language": "python",
   "name": "python3"
  },
  "language_info": {
   "codemirror_mode": {
    "name": "ipython",
    "version": 3
   },
   "file_extension": ".py",
   "mimetype": "text/x-python",
   "name": "python",
   "nbconvert_exporter": "python",
   "pygments_lexer": "ipython3",
   "version": "3.7.4"
  }
 },
 "nbformat": 4,
 "nbformat_minor": 2
}
